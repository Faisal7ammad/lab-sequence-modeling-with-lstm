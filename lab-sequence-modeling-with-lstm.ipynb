{
  "cells": [
    {
      "cell_type": "markdown",
      "metadata": {
        "id": "va0VSPd0msSs"
      },
      "source": [
        "# Lab | Sequence Modeling with LSTM"
      ]
    },
    {
      "cell_type": "code",
      "execution_count": 17,
      "metadata": {
        "id": "hmA6EzkQJ5jt",
        "tags": []
      },
      "outputs": [],
      "source": [
        "import json\n",
        "import tensorflow as tf\n",
        "import csv\n",
        "import random\n",
        "import numpy as np\n",
        "\n",
        "from tensorflow.keras.preprocessing.text import Tokenizer\n",
        "from tensorflow.keras.preprocessing.sequence import pad_sequences\n",
        "from tensorflow.keras.utils import to_categorical\n",
        "from tensorflow.keras import regularizers\n",
        "\n",
        "\n",
        "\n",
        "\n",
        "embedding_dim = 100\n",
        "max_length = 16\n",
        "trunc_type='post'\n",
        "padding_type='post'\n",
        "oov_tok = \"<OOV>\"\n",
        "training_size = 16000 #Your dataset size here. Experiment using smaller values (i.e. 16000), but don't forget to train on at least 160000 to see the best effects\n",
        "test_portion= 0.1\n",
        "\n",
        "corpus = []\n"
      ]
    },
    {
      "cell_type": "code",
      "source": [
        "# file_path = \"/content/training.1600000.processed.noemoticon.csv\"\n",
        "\n",
        "# # Open the CSV file and print the first few rows\n",
        "# with open(file_path, encoding='utf-8', errors='replace') as csvfile:\n",
        "#     reader = csv.reader(csvfile, delimiter=',')\n",
        "#     for i, row in enumerate(reader):\n",
        "#         # Stop after printing the specified number of rows\n",
        "#         if i >= preview_rows - 1:\n",
        "#             break"
      ],
      "metadata": {
        "id": "2xH-WYNIYzZz"
      },
      "execution_count": 18,
      "outputs": []
    },
    {
      "cell_type": "code",
      "execution_count": 19,
      "metadata": {
        "id": "bM0l_dORKqE0"
      },
      "outputs": [],
      "source": [
        "# !wget --no-check-certificate \\\n",
        "#     https://storage.googleapis.com/laurencemoroney-blog.appspot.com/training_cleaned.csv \\\n",
        "#     -O /tmp/training_cleaned.csv\n",
        "corpus = []\n",
        "num_sentences = 0\n",
        "file_path = \"/content/training.1600000.processed.noemoticon.csv\"\n",
        "with open(file_path, encoding='utf-8', errors='replace') as csvfile:\n",
        "    reader = csv.reader(csvfile, delimiter=',')\n",
        "    for row in reader:\n",
        "      # Create list items where the first item is the text, found in row[5], and the second is the label. Note that the label is a '0' or a '4' in the text. When it's the former, make\n",
        "      # your label to be 0, otherwise 1. Keep a count of the number of sentences in num_sentences\n",
        "        # YOUR CODE HERE\n",
        "        text = row[5]\n",
        "        if row[0] == '0':\n",
        "          label = 0\n",
        "        else:\n",
        "          label = 1\n",
        "        list_item = [text, label]\n",
        "        num_sentences = num_sentences + 1\n",
        "        corpus.append(list_item)\n"
      ]
    },
    {
      "cell_type": "code",
      "execution_count": 20,
      "metadata": {
        "colab": {
          "base_uri": "https://localhost:8080/"
        },
        "id": "3kxblBUjEUX-",
        "outputId": "50d4d71c-c62e-475a-b6e4-31cfe04cea88"
      },
      "outputs": [
        {
          "output_type": "stream",
          "name": "stdout",
          "text": [
            "1600000\n",
            "1600000\n",
            "[\"is upset that he can't update his Facebook by texting it... and might cry as a result  School today also. Blah!\", 0]\n"
          ]
        }
      ],
      "source": [
        "print(num_sentences)\n",
        "print(len(corpus))\n",
        "print(corpus[1])\n",
        "\n",
        "# Expected Output:\n",
        "# 1600000\n",
        "# 1600000\n",
        "# [\"is upset that he can't update his Facebook by texting it... and might cry as a result  School today also. Blah!\", 0]"
      ]
    },
    {
      "cell_type": "code",
      "source": [
        "corpus[1][0]"
      ],
      "metadata": {
        "colab": {
          "base_uri": "https://localhost:8080/",
          "height": 35
        },
        "id": "F_vkK_ZJZXHj",
        "outputId": "7616e41f-b786-4026-ddb2-f5977f731ad5"
      },
      "execution_count": 21,
      "outputs": [
        {
          "output_type": "execute_result",
          "data": {
            "text/plain": [
              "\"is upset that he can't update his Facebook by texting it... and might cry as a result  School today also. Blah!\""
            ],
            "application/vnd.google.colaboratory.intrinsic+json": {
              "type": "string"
            }
          },
          "metadata": {},
          "execution_count": 21
        }
      ]
    },
    {
      "cell_type": "code",
      "execution_count": 22,
      "metadata": {
        "id": "ohOGz24lsNAD"
      },
      "outputs": [],
      "source": [
        "sentences=[]\n",
        "labels=[]\n",
        "random.shuffle(corpus)\n",
        "for x in range(training_size):\n",
        "    sentences.append(corpus[x][0])\n",
        "    labels.append(corpus[x][1])\n",
        "\n",
        "\n",
        "tokenizer = Tokenizer()\n",
        "tokenizer.fit_on_texts(sentences)\n",
        "\n",
        "word_index = tokenizer.word_index\n",
        "vocab_size=len(word_index)\n",
        "\n",
        "sequences = tokenizer.texts_to_sequences(sentences)\n",
        "padded = pad_sequences(sequences, maxlen=max_length)\n",
        "\n",
        "split = int(test_portion * training_size)\n",
        "\n",
        "test_sequences = np.array(padded[split:])\n",
        "training_sequences = np.array(padded[:split])\n",
        "test_labels = np.array(labels[split:])\n",
        "training_labels = np.array(labels[:split])"
      ]
    },
    {
      "cell_type": "code",
      "execution_count": 23,
      "metadata": {
        "id": "gIrtRem1En3N",
        "colab": {
          "base_uri": "https://localhost:8080/"
        },
        "outputId": "fb953cb2-0603-4e23-9022-8fdcc63821a6"
      },
      "outputs": [
        {
          "output_type": "stream",
          "name": "stdout",
          "text": [
            "26580\n",
            "1\n"
          ]
        }
      ],
      "source": [
        "print(vocab_size)\n",
        "print(word_index['i'])\n",
        "# Expected Output\n",
        "# 138858\n",
        "# 1"
      ]
    },
    {
      "cell_type": "code",
      "source": [
        "print(f\"Training sequences shape: {training_sequences.shape}, type: {type(training_sequences)}\")\n",
        "print(f\"Test sequences shape: {test_sequences.shape}, type: {type(test_sequences)}\")\n",
        "print(f\"Training labels shape: {training_labels.shape}, type: {type(training_labels)}\")\n",
        "print(f\"Test labels shape: {test_labels.shape}, type: {type(test_labels)}\")"
      ],
      "metadata": {
        "colab": {
          "base_uri": "https://localhost:8080/"
        },
        "id": "4ns2RTLJoUQf",
        "outputId": "56f1d0cb-f436-4f7c-d99a-bdeefe4053fa"
      },
      "execution_count": 24,
      "outputs": [
        {
          "output_type": "stream",
          "name": "stdout",
          "text": [
            "Training sequences shape: (1600, 16), type: <class 'numpy.ndarray'>\n",
            "Test sequences shape: (14400, 16), type: <class 'numpy.ndarray'>\n",
            "Training labels shape: (1600,), type: <class 'numpy.ndarray'>\n",
            "Test labels shape: (14400,), type: <class 'numpy.ndarray'>\n"
          ]
        }
      ]
    },
    {
      "cell_type": "code",
      "execution_count": 25,
      "metadata": {
        "id": "C1zdgJkusRh0"
      },
      "outputs": [],
      "source": [
        "# Note this is the 100 dimension version of GloVe from Stanford\n",
        "# I unzipped and hosted it on my site to make this notebook easier\n",
        "# !wget --no-check-certificate \\\n",
        "#     https://storage.googleapis.com/laurencemoroney-blog.appspot.com/glove.6B.100d.txt \\\n",
        "#     -O /tmp/glove.6B.100d.txt\n",
        "\n",
        "embeddings_index = {};\n",
        "with open(\"/content/glove.6B.100d.txt\") as f:\n",
        "    for line in f:\n",
        "        values = line.split();\n",
        "        word = values[0];\n",
        "        coefs = np.asarray(values[1:], dtype='float32');\n",
        "        embeddings_index[word] = coefs;\n",
        "\n",
        "embeddings_matrix = np.zeros((vocab_size+1, embedding_dim));\n",
        "for word, i in word_index.items():\n",
        "    embedding_vector = embeddings_index.get(word);\n",
        "    if embedding_vector is not None:\n",
        "        embeddings_matrix[i] = embedding_vector;"
      ]
    },
    {
      "cell_type": "code",
      "execution_count": 26,
      "metadata": {
        "id": "71NLk_lpFLNt",
        "colab": {
          "base_uri": "https://localhost:8080/"
        },
        "outputId": "d9df2e7b-dcfa-4587-9bcb-df4197d10129"
      },
      "outputs": [
        {
          "output_type": "stream",
          "name": "stdout",
          "text": [
            "26581\n"
          ]
        }
      ],
      "source": [
        "print(len(embeddings_matrix))\n",
        "# Expected Output\n",
        "# 138859"
      ]
    },
    {
      "cell_type": "code",
      "execution_count": 30,
      "metadata": {
        "id": "iKKvbuEBOGFz",
        "colab": {
          "base_uri": "https://localhost:8080/"
        },
        "outputId": "5e1e5225-a3ba-4d48-f517-3d844c7dbd0e"
      },
      "outputs": [
        {
          "output_type": "stream",
          "name": "stdout",
          "text": [
            "Model: \"sequential_4\"\n",
            "_________________________________________________________________\n",
            " Layer (type)                Output Shape              Param #   \n",
            "=================================================================\n",
            " embedding_4 (Embedding)     (None, 16, 100)           2658100   \n",
            "                                                                 \n",
            " conv1d_4 (Conv1D)           (None, 12, 64)            32064     \n",
            "                                                                 \n",
            " dropout_8 (Dropout)         (None, 12, 64)            0         \n",
            "                                                                 \n",
            " lstm_4 (LSTM)               (None, 124)               93744     \n",
            "                                                                 \n",
            " dense_8 (Dense)             (None, 124)               15500     \n",
            "                                                                 \n",
            " dropout_9 (Dropout)         (None, 124)               0         \n",
            "                                                                 \n",
            " dense_9 (Dense)             (None, 1)                 125       \n",
            "                                                                 \n",
            "=================================================================\n",
            "Total params: 2799533 (10.68 MB)\n",
            "Trainable params: 141433 (552.47 KB)\n",
            "Non-trainable params: 2658100 (10.14 MB)\n",
            "_________________________________________________________________\n",
            "Epoch 1/50\n",
            "50/50 - 4s - loss: 0.6922 - accuracy: 0.5225 - val_loss: 0.6731 - val_accuracy: 0.5989 - 4s/epoch - 76ms/step\n",
            "Epoch 2/50\n",
            "50/50 - 1s - loss: 0.6566 - accuracy: 0.6137 - val_loss: 0.6384 - val_accuracy: 0.6415 - 1s/epoch - 30ms/step\n",
            "Epoch 3/50\n",
            "50/50 - 2s - loss: 0.5949 - accuracy: 0.6769 - val_loss: 0.6444 - val_accuracy: 0.6168 - 2s/epoch - 32ms/step\n",
            "Epoch 4/50\n",
            "50/50 - 2s - loss: 0.5362 - accuracy: 0.7169 - val_loss: 0.6370 - val_accuracy: 0.6538 - 2s/epoch - 35ms/step\n",
            "Epoch 5/50\n",
            "50/50 - 2s - loss: 0.4353 - accuracy: 0.8037 - val_loss: 0.6846 - val_accuracy: 0.6551 - 2s/epoch - 37ms/step\n",
            "Epoch 6/50\n",
            "50/50 - 2s - loss: 0.3244 - accuracy: 0.8575 - val_loss: 0.8864 - val_accuracy: 0.6357 - 2s/epoch - 31ms/step\n",
            "Epoch 7/50\n",
            "50/50 - 1s - loss: 0.2160 - accuracy: 0.9169 - val_loss: 1.0511 - val_accuracy: 0.6477 - 1s/epoch - 30ms/step\n",
            "Epoch 8/50\n",
            "50/50 - 1s - loss: 0.1650 - accuracy: 0.9375 - val_loss: 1.0050 - val_accuracy: 0.6506 - 1s/epoch - 25ms/step\n",
            "Epoch 9/50\n",
            "50/50 - 1s - loss: 0.1181 - accuracy: 0.9613 - val_loss: 1.3012 - val_accuracy: 0.6542 - 1s/epoch - 24ms/step\n",
            "Epoch 10/50\n",
            "50/50 - 1s - loss: 0.1072 - accuracy: 0.9619 - val_loss: 1.2607 - val_accuracy: 0.6563 - 1s/epoch - 24ms/step\n",
            "Epoch 11/50\n",
            "50/50 - 1s - loss: 0.0491 - accuracy: 0.9819 - val_loss: 1.4869 - val_accuracy: 0.6423 - 1s/epoch - 24ms/step\n",
            "Epoch 12/50\n",
            "50/50 - 1s - loss: 0.0452 - accuracy: 0.9831 - val_loss: 1.4944 - val_accuracy: 0.6529 - 1s/epoch - 24ms/step\n",
            "Epoch 13/50\n",
            "50/50 - 1s - loss: 0.0378 - accuracy: 0.9900 - val_loss: 1.5193 - val_accuracy: 0.6421 - 1s/epoch - 30ms/step\n",
            "Epoch 14/50\n",
            "50/50 - 3s - loss: 0.0249 - accuracy: 0.9931 - val_loss: 1.7513 - val_accuracy: 0.6510 - 3s/epoch - 58ms/step\n",
            "Training Complete\n"
          ]
        }
      ],
      "source": [
        "from tensorflow.keras.layers import Embedding, Conv1D, MaxPooling1D, LSTM, Dense, Dropout\n",
        "from tensorflow.keras.callbacks import EarlyStopping\n",
        "\n",
        "model = tf.keras.Sequential([\n",
        "    Embedding(vocab_size+1, embedding_dim, input_length=max_length, weights=[embeddings_matrix], trainable=False),\n",
        "    # YOUR CODE HERE - experiment with combining different types, such as convolutions and LSTMs\n",
        "    Conv1D(64, 5, activation = 'relu'),\n",
        "    Dropout(0.1),\n",
        "    LSTM(124),\n",
        "    Dense(124, activation='relu'),\n",
        "    Dropout(0.2),\n",
        "    Dense(1, activation='sigmoid')])\n",
        "model.compile(loss='binary_crossentropy', optimizer='adam', metrics=['accuracy'])\n",
        "model.summary()\n",
        "\n",
        "early_stopping = EarlyStopping(monitor='val_loss', patience=10, restore_best_weights=True)\n",
        "\n",
        "num_epochs = 50\n",
        "history = model.fit(training_sequences, training_labels, epochs=num_epochs, validation_data=(test_sequences, test_labels), verbose=2, callbacks=[early_stopping])\n",
        "\n",
        "print(\"Training Complete\")\n"
      ]
    },
    {
      "cell_type": "code",
      "execution_count": 28,
      "metadata": {
        "id": "qxju4ItJKO8F",
        "colab": {
          "base_uri": "https://localhost:8080/",
          "height": 962
        },
        "outputId": "49cbabc0-c759-4500-95af-e04464f75472"
      },
      "outputs": [
        {
          "output_type": "execute_result",
          "data": {
            "text/plain": [
              "<Figure size 640x480 with 0 Axes>"
            ]
          },
          "metadata": {},
          "execution_count": 28
        },
        {
          "output_type": "display_data",
          "data": {
            "text/plain": [
              "<Figure size 640x480 with 1 Axes>"
            ],
            "image/png": "[encoded data removed]"
          },
          "metadata": {}
        },
        {
          "output_type": "display_data",
          "data": {
            "text/plain": [
              "<Figure size 640x480 with 1 Axes>"
            ],
            "image/png": "[encoded data removed]"
          },
          "metadata": {}
        },
        {
          "output_type": "display_data",
          "data": {
            "text/plain": [
              "<Figure size 640x480 with 0 Axes>"
            ]
          },
          "metadata": {}
        }
      ],
      "source": [
        "import matplotlib.image  as mpimg\n",
        "import matplotlib.pyplot as plt\n",
        "\n",
        "#-----------------------------------------------------------\n",
        "# Retrieve a list of list results on training and test data\n",
        "# sets for each training epoch\n",
        "#-----------------------------------------------------------\n",
        "acc=history.history['accuracy']\n",
        "val_acc=history.history['val_accuracy']\n",
        "loss=history.history['loss']\n",
        "val_loss=history.history['val_loss']\n",
        "\n",
        "epochs=range(len(acc)) # Get number of epochs\n",
        "\n",
        "#------------------------------------------------\n",
        "# Plot training and validation accuracy per epoch\n",
        "#------------------------------------------------\n",
        "plt.plot(epochs, acc, 'r')\n",
        "plt.plot(epochs, val_acc, 'b')\n",
        "plt.title('Training and validation accuracy')\n",
        "plt.xlabel(\"Epochs\")\n",
        "plt.ylabel(\"Accuracy\")\n",
        "plt.legend([\"Accuracy\", \"Validation Accuracy\"])\n",
        "\n",
        "plt.figure()\n",
        "\n",
        "#------------------------------------------------\n",
        "# Plot training and validation loss per epoch\n",
        "#------------------------------------------------\n",
        "plt.plot(epochs, loss, 'r')\n",
        "plt.plot(epochs, val_loss, 'b')\n",
        "plt.title('Training and validation loss')\n",
        "plt.xlabel(\"Epochs\")\n",
        "plt.ylabel(\"Loss\")\n",
        "plt.legend([\"Loss\", \"Validation Loss\"])\n",
        "\n",
        "plt.figure()\n",
        "\n",
        "\n",
        "# Expected Output\n",
        "# A chart where the validation loss does not increase sharply!"
      ]
    },
    {
      "cell_type": "code",
      "source": [],
      "metadata": {
        "id": "iXe6eh14qZho"
      },
      "execution_count": 28,
      "outputs": []
    }
  ],
  "metadata": {
    "accelerator": "GPU",
    "colab": {
      "provenance": [],
      "gpuType": "T4"
    },
    "kernelspec": {
      "display_name": "Python 3",
      "name": "python3"
    },
    "language_info": {
      "codemirror_mode": {
        "name": "ipython",
        "version": 3
      },
      "file_extension": ".py",
      "mimetype": "text/x-python",
      "name": "python",
      "nbconvert_exporter": "python",
      "pygments_lexer": "ipython3",
      "version": "3.11.8"
    }
  },
  "nbformat": 4,
  "nbformat_minor": 0
}